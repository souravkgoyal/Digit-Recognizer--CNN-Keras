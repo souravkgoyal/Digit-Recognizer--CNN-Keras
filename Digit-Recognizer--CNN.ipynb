{
 "cells": [
  {
   "cell_type": "markdown",
   "metadata": {},
   "source": [
    "# Problem Statement"
   ]
  },
  {
   "cell_type": "markdown",
   "metadata": {},
   "source": [
    "In this competition, goal is to correctly identify digits from a dataset of tens of thousands of handwritten images."
   ]
  },
  {
   "cell_type": "code",
   "execution_count": 64,
   "metadata": {
    "_cell_guid": "b1076dfc-b9ad-4769-8c92-a6c4dae69d19",
    "_uuid": "8f2839f25d086af736a60e9eeb907d3b93b6e0e5"
   },
   "outputs": [
    {
     "name": "stdout",
     "output_type": "stream",
     "text": [
      "/kaggle/input/digit-recognizer/test.csv\n",
      "/kaggle/input/digit-recognizer/sample_submission.csv\n",
      "/kaggle/input/digit-recognizer/train.csv\n"
     ]
    }
   ],
   "source": [
    "# This Python 3 environment comes with many helpful analytics libraries installed\n",
    "# It is defined by the kaggle/python Docker image: https://github.com/kaggle/docker-python\n",
    "# For example, here's several helpful packages to load\n",
    "\n",
    "import numpy as np # linear algebra\n",
    "import pandas as pd # data processing, CSV file I/O (e.g. pd.read_csv)\n",
    "\n",
    "# Input data files are available in the read-only \"../input/\" directory\n",
    "# For example, running this (by clicking run or pressing Shift+Enter) will list all files under the input directory\n",
    "\n",
    "import os\n",
    "for dirname, _, filenames in os.walk('/kaggle/input'):\n",
    "    for filename in filenames:\n",
    "        print(os.path.join(dirname, filename))\n",
    "\n",
    "# You can write up to 5GB to the current directory (/kaggle/working/) that gets preserved as output when you create a version using \"Save & Run All\" \n",
    "# You can also write temporary files to /kaggle/temp/, but they won't be saved outside of the current session"
   ]
  },
  {
   "cell_type": "code",
   "execution_count": 65,
   "metadata": {
    "_cell_guid": "79c7e3d0-c299-4dcb-8224-4455121ee9b0",
    "_uuid": "d629ff2d2480ee46fbb7e2d37f6b5fab8052498a"
   },
   "outputs": [],
   "source": [
    "# Importng Required Libraries\n",
    "import tensorflow as tf\n",
    "from tensorflow import keras\n",
    "import numpy as np\n",
    "import pandas as pd\n",
    "import matplotlib.pyplot as plt\n",
    "import seaborn as sns"
   ]
  },
  {
   "cell_type": "markdown",
   "metadata": {},
   "source": [
    "## Data Prepration"
   ]
  },
  {
   "cell_type": "markdown",
   "metadata": {},
   "source": [
    "### Load Data"
   ]
  },
  {
   "cell_type": "code",
   "execution_count": 66,
   "metadata": {},
   "outputs": [],
   "source": [
    "train = pd.read_csv(r'/kaggle/input/digit-recognizer/train.csv')\n",
    "test = pd.read_csv(r'/kaggle/input/digit-recognizer/test.csv')"
   ]
  },
  {
   "cell_type": "code",
   "execution_count": 67,
   "metadata": {},
   "outputs": [],
   "source": [
    "y_train = train['label']\n",
    "X_train=train.drop('label',axis=1)"
   ]
  },
  {
   "cell_type": "code",
   "execution_count": 68,
   "metadata": {},
   "outputs": [
    {
     "data": {
      "text/plain": [
       "<matplotlib.axes._subplots.AxesSubplot at 0x7f0b29bbe590>"
      ]
     },
     "execution_count": 68,
     "metadata": {},
     "output_type": "execute_result"
    },
    {
     "data": {
      "image/png": "[encoded data removed]",
      "text/plain": [
       "<Figure size 504x360 with 1 Axes>"
      ]
     },
     "metadata": {},
     "output_type": "display_data"
    }
   ],
   "source": [
    "sns.set_style('whitegrid')\n",
    "plt.figure(figsize=(7,5))\n",
    "sns.countplot(y_train)"
   ]
  },
  {
   "cell_type": "markdown",
   "metadata": {},
   "source": [
    "### Check for Missing Values"
   ]
  },
  {
   "cell_type": "code",
   "execution_count": 69,
   "metadata": {},
   "outputs": [
    {
     "data": {
      "text/plain": [
       "count       784\n",
       "unique        1\n",
       "top       False\n",
       "freq        784\n",
       "dtype: object"
      ]
     },
     "execution_count": 69,
     "metadata": {},
     "output_type": "execute_result"
    }
   ],
   "source": [
    "X_train.isnull().any().describe()"
   ]
  },
  {
   "cell_type": "code",
   "execution_count": 70,
   "metadata": {},
   "outputs": [
    {
     "data": {
      "text/plain": [
       "count       784\n",
       "unique        1\n",
       "top       False\n",
       "freq        784\n",
       "dtype: object"
      ]
     },
     "execution_count": 70,
     "metadata": {},
     "output_type": "execute_result"
    }
   ],
   "source": [
    "test.isnull().any().describe()"
   ]
  },
  {
   "cell_type": "markdown",
   "metadata": {},
   "source": [
    "### Normalization"
   ]
  },
  {
   "cell_type": "code",
   "execution_count": 71,
   "metadata": {},
   "outputs": [],
   "source": [
    "X_train /= 255.0\n",
    "test /= 255.0"
   ]
  },
  {
   "cell_type": "markdown",
   "metadata": {},
   "source": [
    "### Reshape"
   ]
  },
  {
   "cell_type": "code",
   "execution_count": 72,
   "metadata": {},
   "outputs": [],
   "source": [
    "X_train=X_train.values.reshape(-1,28,28,1)\n",
    "test=test.values.reshape(-1,28,28,1)"
   ]
  },
  {
   "cell_type": "markdown",
   "metadata": {},
   "source": [
    "### Label Encoding"
   ]
  },
  {
   "cell_type": "code",
   "execution_count": 73,
   "metadata": {},
   "outputs": [],
   "source": [
    "y_train = tf.keras.utils.to_categorical(y_train, num_classes=10)"
   ]
  },
  {
   "cell_type": "markdown",
   "metadata": {},
   "source": [
    "### Split Training and Validation Set"
   ]
  },
  {
   "cell_type": "code",
   "execution_count": 74,
   "metadata": {},
   "outputs": [],
   "source": [
    "from sklearn.model_selection import train_test_split\n",
    "X_train, X_val, y_train, y_val = train_test_split(X_train, y_train, test_size=0.1, random_state=2)"
   ]
  },
  {
   "cell_type": "code",
   "execution_count": 75,
   "metadata": {},
   "outputs": [
    {
     "data": {
      "text/plain": [
       "<matplotlib.image.AxesImage at 0x7f0b1f24f650>"
      ]
     },
     "execution_count": 75,
     "metadata": {},
     "output_type": "execute_result"
    },
    {
     "data": {
      "image/png": "[encoded data removed]",
      "text/plain": [
       "<Figure size 432x288 with 1 Axes>"
      ]
     },
     "metadata": {},
     "output_type": "display_data"
    }
   ],
   "source": [
    "plt.imshow(X_train[0][:,:,0])"
   ]
  },
  {
   "cell_type": "code",
   "execution_count": 76,
   "metadata": {},
   "outputs": [
    {
     "data": {
      "text/plain": [
       "(37800, 10)"
      ]
     },
     "execution_count": 76,
     "metadata": {},
     "output_type": "execute_result"
    }
   ],
   "source": [
    "y_train.shape"
   ]
  },
  {
   "cell_type": "markdown",
   "metadata": {},
   "source": [
    "## CNN"
   ]
  },
  {
   "cell_type": "markdown",
   "metadata": {},
   "source": [
    "### Defining the model"
   ]
  },
  {
   "cell_type": "code",
   "execution_count": 77,
   "metadata": {},
   "outputs": [
    {
     "name": "stdout",
     "output_type": "stream",
     "text": [
      "Model: \"sequential_3\"\n",
      "_________________________________________________________________\n",
      "Layer (type)                 Output Shape              Param #   \n",
      "=================================================================\n",
      "conv2d_18 (Conv2D)           (None, 28, 28, 32)        832       \n",
      "_________________________________________________________________\n",
      "batch_normalization_21 (Batc (None, 28, 28, 32)        128       \n",
      "_________________________________________________________________\n",
      "conv2d_19 (Conv2D)           (None, 28, 28, 32)        25632     \n",
      "_________________________________________________________________\n",
      "batch_normalization_22 (Batc (None, 28, 28, 32)        128       \n",
      "_________________________________________________________________\n",
      "max_pooling2d_9 (MaxPooling2 (None, 14, 14, 32)        0         \n",
      "_________________________________________________________________\n",
      "dropout_12 (Dropout)         (None, 14, 14, 32)        0         \n",
      "_________________________________________________________________\n",
      "conv2d_20 (Conv2D)           (None, 14, 14, 64)        18496     \n",
      "_________________________________________________________________\n",
      "batch_normalization_23 (Batc (None, 14, 14, 64)        256       \n",
      "_________________________________________________________________\n",
      "conv2d_21 (Conv2D)           (None, 14, 14, 64)        36928     \n",
      "_________________________________________________________________\n",
      "batch_normalization_24 (Batc (None, 14, 14, 64)        256       \n",
      "_________________________________________________________________\n",
      "max_pooling2d_10 (MaxPooling (None, 7, 7, 64)          0         \n",
      "_________________________________________________________________\n",
      "dropout_13 (Dropout)         (None, 7, 7, 64)          0         \n",
      "_________________________________________________________________\n",
      "conv2d_22 (Conv2D)           (None, 7, 7, 64)          36928     \n",
      "_________________________________________________________________\n",
      "batch_normalization_25 (Batc (None, 7, 7, 64)          256       \n",
      "_________________________________________________________________\n",
      "conv2d_23 (Conv2D)           (None, 7, 7, 64)          36928     \n",
      "_________________________________________________________________\n",
      "batch_normalization_26 (Batc (None, 7, 7, 64)          256       \n",
      "_________________________________________________________________\n",
      "max_pooling2d_11 (MaxPooling (None, 3, 3, 64)          0         \n",
      "_________________________________________________________________\n",
      "dropout_14 (Dropout)         (None, 3, 3, 64)          0         \n",
      "_________________________________________________________________\n",
      "flatten_3 (Flatten)          (None, 576)               0         \n",
      "_________________________________________________________________\n",
      "dense_6 (Dense)              (None, 256)               147712    \n",
      "_________________________________________________________________\n",
      "batch_normalization_27 (Batc (None, 256)               1024      \n",
      "_________________________________________________________________\n",
      "dropout_15 (Dropout)         (None, 256)               0         \n",
      "_________________________________________________________________\n",
      "dense_7 (Dense)              (None, 10)                2570      \n",
      "=================================================================\n",
      "Total params: 308,330\n",
      "Trainable params: 307,178\n",
      "Non-trainable params: 1,152\n",
      "_________________________________________________________________\n"
     ]
    }
   ],
   "source": [
    "model = tf.keras.models.Sequential([\n",
    "    tf.keras.layers.Conv2D(32,(5,5),activation='relu',padding='same',input_shape=(28,28,1)),\n",
    "    tf.keras.layers.BatchNormalization(),\n",
    "    tf.keras.layers.Conv2D(32,(5,5),activation='relu',padding='same'),\n",
    "    tf.keras.layers.BatchNormalization(),\n",
    "    tf.keras.layers.MaxPooling2D((2,2)),\n",
    "    tf.keras.layers.Dropout(0.25),\n",
    "    tf.keras.layers.Conv2D(64,(3,3),activation='relu',padding='same'),\n",
    "    tf.keras.layers.BatchNormalization(),\n",
    "    tf.keras.layers.Conv2D(64,(3,3),activation='relu',padding='same'),\n",
    "    tf.keras.layers.BatchNormalization(),\n",
    "    tf.keras.layers.MaxPooling2D((2,2),strides=(2,2)),\n",
    "    tf.keras.layers.Dropout(0.25),\n",
    "    tf.keras.layers.Conv2D(64,(3,3),activation='relu',padding='same'),\n",
    "    tf.keras.layers.BatchNormalization(),\n",
    "    tf.keras.layers.Conv2D(64,(3,3),activation='relu',padding='same'),\n",
    "    tf.keras.layers.BatchNormalization(),\n",
    "    tf.keras.layers.MaxPooling2D((2,2),strides=(2,2)),\n",
    "    tf.keras.layers.Dropout(0.25),\n",
    "    tf.keras.layers.Flatten(),\n",
    "    tf.keras.layers.Dense(256,activation='relu'),\n",
    "    tf.keras.layers.BatchNormalization(),\n",
    "    tf.keras.layers.Dropout(0.25),\n",
    "    tf.keras.layers.Dense(10,activation='softmax')\n",
    "])\n",
    "model.summary()"
   ]
  },
  {
   "cell_type": "markdown",
   "metadata": {},
   "source": [
    "### Initializing Optimizer"
   ]
  },
  {
   "cell_type": "code",
   "execution_count": 78,
   "metadata": {},
   "outputs": [],
   "source": [
    "optimizer=tf.keras.optimizers.RMSprop(lr=0.001)"
   ]
  },
  {
   "cell_type": "code",
   "execution_count": 79,
   "metadata": {},
   "outputs": [],
   "source": [
    "model.compile(optimizer=optimizer, loss='categorical_crossentropy', metrics=['acc'])"
   ]
  },
  {
   "cell_type": "markdown",
   "metadata": {},
   "source": [
    "### Data Augmentation"
   ]
  },
  {
   "cell_type": "code",
   "execution_count": 80,
   "metadata": {},
   "outputs": [],
   "source": [
    "from keras.preprocessing.image import ImageDataGenerator\n",
    "datagen=ImageDataGenerator(rotation_range=40,\n",
    "                          width_shift_range=0.2,\n",
    "                          height_shift_range=0.2,\n",
    "                          shear_range=0.2,\n",
    "                          zoom_range=0.2,\n",
    "                          horizontal_flip=True,\n",
    "                          fill_mode='nearest')\n",
    "datagen.fit(X_train)"
   ]
  },
  {
   "cell_type": "code",
   "execution_count": 81,
   "metadata": {},
   "outputs": [],
   "source": [
    "def scheduler(epoch):\n",
    "    if epoch < 10:\n",
    "        return 0.001\n",
    "    else:\n",
    "        return 0.001* tf.math.exp(0.1 * (10-epoch))\n",
    "callback = tf.keras.callbacks.LearningRateScheduler(scheduler)"
   ]
  },
  {
   "cell_type": "code",
   "execution_count": 82,
   "metadata": {},
   "outputs": [
    {
     "name": "stdout",
     "output_type": "stream",
     "text": [
      "Train for 315 steps, validate on 4200 samples\n",
      "Epoch 1/45\n",
      "315/315 - 17s - loss: 1.0897 - acc: 0.6442 - val_loss: 4.7526 - val_acc: 0.2176\n",
      "Epoch 2/45\n",
      "315/315 - 14s - loss: 0.3813 - acc: 0.8778 - val_loss: 0.1368 - val_acc: 0.9583\n",
      "Epoch 3/45\n",
      "315/315 - 14s - loss: 0.2724 - acc: 0.9148 - val_loss: 0.2120 - val_acc: 0.9324\n",
      "Epoch 4/45\n",
      "315/315 - 14s - loss: 0.2242 - acc: 0.9309 - val_loss: 0.0898 - val_acc: 0.9719\n",
      "Epoch 5/45\n",
      "315/315 - 14s - loss: 0.1975 - acc: 0.9380 - val_loss: 0.0806 - val_acc: 0.9776\n",
      "Epoch 6/45\n",
      "315/315 - 15s - loss: 0.1839 - acc: 0.9428 - val_loss: 0.1211 - val_acc: 0.9579\n",
      "Epoch 7/45\n",
      "315/315 - 14s - loss: 0.1657 - acc: 0.9492 - val_loss: 0.1043 - val_acc: 0.9686\n",
      "Epoch 8/45\n",
      "315/315 - 14s - loss: 0.1575 - acc: 0.9510 - val_loss: 0.0721 - val_acc: 0.9767\n",
      "Epoch 9/45\n",
      "315/315 - 14s - loss: 0.1462 - acc: 0.9547 - val_loss: 0.0662 - val_acc: 0.9774\n",
      "Epoch 10/45\n",
      "315/315 - 15s - loss: 0.1438 - acc: 0.9557 - val_loss: 0.0709 - val_acc: 0.9740\n",
      "Epoch 11/45\n",
      "315/315 - 14s - loss: 0.1372 - acc: 0.9580 - val_loss: 0.0662 - val_acc: 0.9776\n",
      "Epoch 12/45\n",
      "315/315 - 14s - loss: 0.1341 - acc: 0.9597 - val_loss: 0.0483 - val_acc: 0.9852\n",
      "Epoch 13/45\n",
      "315/315 - 14s - loss: 0.1266 - acc: 0.9613 - val_loss: 0.0679 - val_acc: 0.9790\n",
      "Epoch 14/45\n",
      "315/315 - 15s - loss: 0.1206 - acc: 0.9633 - val_loss: 0.0674 - val_acc: 0.9762\n",
      "Epoch 15/45\n",
      "315/315 - 14s - loss: 0.1122 - acc: 0.9669 - val_loss: 0.0553 - val_acc: 0.9826\n",
      "Epoch 16/45\n",
      "315/315 - 14s - loss: 0.1123 - acc: 0.9660 - val_loss: 0.0542 - val_acc: 0.9843\n",
      "Epoch 17/45\n",
      "315/315 - 14s - loss: 0.1039 - acc: 0.9690 - val_loss: 0.0431 - val_acc: 0.9869\n",
      "Epoch 18/45\n",
      "315/315 - 15s - loss: 0.1032 - acc: 0.9685 - val_loss: 0.0436 - val_acc: 0.9862\n",
      "Epoch 19/45\n",
      "315/315 - 14s - loss: 0.1010 - acc: 0.9682 - val_loss: 0.0434 - val_acc: 0.9881\n",
      "Epoch 20/45\n",
      "315/315 - 14s - loss: 0.0993 - acc: 0.9692 - val_loss: 0.0439 - val_acc: 0.9869\n",
      "Epoch 21/45\n",
      "315/315 - 14s - loss: 0.0942 - acc: 0.9716 - val_loss: 0.0436 - val_acc: 0.9862\n",
      "Epoch 22/45\n",
      "315/315 - 15s - loss: 0.0890 - acc: 0.9728 - val_loss: 0.0422 - val_acc: 0.9857\n",
      "Epoch 23/45\n",
      "315/315 - 14s - loss: 0.0931 - acc: 0.9719 - val_loss: 0.0385 - val_acc: 0.9879\n",
      "Epoch 24/45\n",
      "315/315 - 14s - loss: 0.0861 - acc: 0.9737 - val_loss: 0.0422 - val_acc: 0.9860\n",
      "Epoch 25/45\n",
      "315/315 - 14s - loss: 0.0847 - acc: 0.9734 - val_loss: 0.0468 - val_acc: 0.9824\n",
      "Epoch 26/45\n",
      "315/315 - 14s - loss: 0.0854 - acc: 0.9740 - val_loss: 0.0390 - val_acc: 0.9881\n",
      "Epoch 27/45\n",
      "315/315 - 15s - loss: 0.0853 - acc: 0.9743 - val_loss: 0.0388 - val_acc: 0.9857\n",
      "Epoch 28/45\n",
      "315/315 - 14s - loss: 0.0843 - acc: 0.9744 - val_loss: 0.0421 - val_acc: 0.9855\n",
      "Epoch 29/45\n",
      "315/315 - 14s - loss: 0.0797 - acc: 0.9752 - val_loss: 0.0394 - val_acc: 0.9874\n",
      "Epoch 30/45\n",
      "315/315 - 14s - loss: 0.0814 - acc: 0.9756 - val_loss: 0.0387 - val_acc: 0.9860\n",
      "Epoch 31/45\n",
      "315/315 - 15s - loss: 0.0798 - acc: 0.9752 - val_loss: 0.0351 - val_acc: 0.9886\n",
      "Epoch 32/45\n",
      "315/315 - 13s - loss: 0.0797 - acc: 0.9756 - val_loss: 0.0415 - val_acc: 0.9869\n",
      "Epoch 33/45\n",
      "315/315 - 14s - loss: 0.0761 - acc: 0.9772 - val_loss: 0.0392 - val_acc: 0.9869\n",
      "Epoch 34/45\n",
      "315/315 - 14s - loss: 0.0780 - acc: 0.9765 - val_loss: 0.0383 - val_acc: 0.9879\n",
      "Epoch 35/45\n",
      "315/315 - 15s - loss: 0.0765 - acc: 0.9763 - val_loss: 0.0394 - val_acc: 0.9871\n",
      "Epoch 36/45\n",
      "315/315 - 14s - loss: 0.0765 - acc: 0.9760 - val_loss: 0.0380 - val_acc: 0.9874\n",
      "Epoch 37/45\n",
      "315/315 - 14s - loss: 0.0792 - acc: 0.9757 - val_loss: 0.0350 - val_acc: 0.9881\n",
      "Epoch 38/45\n",
      "315/315 - 14s - loss: 0.0751 - acc: 0.9768 - val_loss: 0.0371 - val_acc: 0.9871\n",
      "Epoch 39/45\n",
      "315/315 - 14s - loss: 0.0742 - acc: 0.9767 - val_loss: 0.0377 - val_acc: 0.9876\n",
      "Epoch 40/45\n",
      "315/315 - 14s - loss: 0.0762 - acc: 0.9763 - val_loss: 0.0369 - val_acc: 0.9879\n",
      "Epoch 41/45\n",
      "315/315 - 13s - loss: 0.0724 - acc: 0.9773 - val_loss: 0.0383 - val_acc: 0.9876\n",
      "Epoch 42/45\n",
      "315/315 - 14s - loss: 0.0742 - acc: 0.9774 - val_loss: 0.0365 - val_acc: 0.9879\n",
      "Epoch 43/45\n",
      "315/315 - 14s - loss: 0.0751 - acc: 0.9770 - val_loss: 0.0372 - val_acc: 0.9876\n",
      "Epoch 44/45\n",
      "315/315 - 15s - loss: 0.0715 - acc: 0.9784 - val_loss: 0.0368 - val_acc: 0.9876\n",
      "Epoch 45/45\n",
      "315/315 - 14s - loss: 0.0752 - acc: 0.9773 - val_loss: 0.0363 - val_acc: 0.9883\n"
     ]
    }
   ],
   "source": [
    "history = model.fit_generator(datagen.flow(X_train,y_train, batch_size=120),\n",
    "                              epochs = 45, validation_data = (X_val,y_val),\n",
    "                              verbose = 2, steps_per_epoch=X_train.shape[0] // 120\n",
    "                              , callbacks=[callback])"
   ]
  },
  {
   "cell_type": "markdown",
   "metadata": {},
   "source": [
    "### Evaluating the Model"
   ]
  },
  {
   "cell_type": "code",
   "execution_count": 88,
   "metadata": {},
   "outputs": [
    {
     "data": {
      "image/png": "[encoded data removed]",
      "text/plain": [
       "<Figure size 864x360 with 2 Axes>"
      ]
     },
     "metadata": {},
     "output_type": "display_data"
    }
   ],
   "source": [
    "plt.figure(figsize=(15,7))\n",
    "ax1 = plt.subplot(1,2,1)\n",
    "ax1.plot(history.history['loss'], color='b', label='Training Loss') \n",
    "ax1.plot(history.history['val_loss'], color='r', label = 'Validation Loss',axes=ax1)\n",
    "legend = ax1.legend(loc='best', shadow=True)\n",
    "ax2 = plt.subplot(1,2,2)\n",
    "ax2.plot(history.history['acc'], color='b', label='Training Accuracy') \n",
    "ax2.plot(history.history['val_acc'], color='r', label = 'Validation Accuracy')\n",
    "legend = ax2.legend(loc='best', shadow=True)"
   ]
  },
  {
   "cell_type": "markdown",
   "metadata": {},
   "source": [
    "### Confusion Matrix"
   ]
  },
  {
   "cell_type": "code",
   "execution_count": 84,
   "metadata": {},
   "outputs": [
    {
     "data": {
      "text/plain": [
       "<matplotlib.axes._subplots.AxesSubplot at 0x7f0b2b7d9750>"
      ]
     },
     "execution_count": 84,
     "metadata": {},
     "output_type": "execute_result"
    },
    {
     "data": {
      "image/png": "[encoded data removed]",
      "text/plain": [
       "<Figure size 432x288 with 2 Axes>"
      ]
     },
     "metadata": {},
     "output_type": "display_data"
    }
   ],
   "source": [
    "y_pred = model.predict(X_val)\n",
    "y_pred_classes = np.argmax(y_pred, axis=1)\n",
    "y_true = np.argmax(y_val, axis=1)\n",
    "import scikitplot as skplt\n",
    "skplt.metrics.plot_confusion_matrix(y_true,y_pred_classes,title='Confusion Matrix for Train Data')"
   ]
  },
  {
   "cell_type": "markdown",
   "metadata": {},
   "source": [
    "### Predicting results on test data"
   ]
  },
  {
   "cell_type": "code",
   "execution_count": 85,
   "metadata": {},
   "outputs": [],
   "source": [
    "results = model.predict(test)\n",
    "results = np.argmax(results, axis=1)\n",
    "results = pd.Series(results, name='Label')"
   ]
  },
  {
   "cell_type": "code",
   "execution_count": 86,
   "metadata": {},
   "outputs": [],
   "source": [
    "submission = pd.concat([pd.Series(range(1,28001), name='ImageId'), results], axis=1)\n",
    "submission.to_csv(r'Digit_Recognizer', index=False)"
   ]
  },
  {
   "cell_type": "code",
   "execution_count": null,
   "metadata": {},
   "outputs": [],
   "source": []
  }
 ],
 "metadata": {
  "kernelspec": {
   "display_name": "Python 3",
   "language": "python",
   "name": "python3"
  },
  "language_info": {
   "codemirror_mode": {
    "name": "ipython",
    "version": 3
   },
   "file_extension": ".py",
   "mimetype": "text/x-python",
   "name": "python",
   "nbconvert_exporter": "python",
   "pygments_lexer": "ipython3",
   "version": "3.7.1"
  }
 },
 "nbformat": 4,
 "nbformat_minor": 4
}
