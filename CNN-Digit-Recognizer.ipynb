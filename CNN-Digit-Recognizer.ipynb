{
 "cells": [
  {
   "cell_type": "markdown",
   "metadata": {},
   "source": [
    "# Problem Statement"
   ]
  },
  {
   "cell_type": "markdown",
   "metadata": {},
   "source": [
    "In this competition, goal is to correctly identify digits from a dataset of tens of thousands of handwritten images."
   ]
  },
  {
   "cell_type": "code",
   "execution_count": 1,
   "metadata": {
    "_cell_guid": "b1076dfc-b9ad-4769-8c92-a6c4dae69d19",
    "_uuid": "8f2839f25d086af736a60e9eeb907d3b93b6e0e5"
   },
   "outputs": [
    {
     "name": "stdout",
     "output_type": "stream",
     "text": [
      "/kaggle/input/digit-recognizer/sample_submission.csv\n",
      "/kaggle/input/digit-recognizer/test.csv\n",
      "/kaggle/input/digit-recognizer/train.csv\n"
     ]
    }
   ],
   "source": [
    "# This Python 3 environment comes with many helpful analytics libraries installed\n",
    "# It is defined by the kaggle/python Docker image: https://github.com/kaggle/docker-python\n",
    "# For example, here's several helpful packages to load\n",
    "\n",
    "import numpy as np # linear algebra\n",
    "import pandas as pd # data processing, CSV file I/O (e.g. pd.read_csv)\n",
    "\n",
    "# Input data files are available in the read-only \"../input/\" directory\n",
    "# For example, running this (by clicking run or pressing Shift+Enter) will list all files under the input directory\n",
    "\n",
    "import os\n",
    "for dirname, _, filenames in os.walk('/kaggle/input'):\n",
    "    for filename in filenames:\n",
    "        print(os.path.join(dirname, filename))\n",
    "\n",
    "# You can write up to 5GB to the current directory (/kaggle/working/) that gets preserved as output when you create a version using \"Save & Run All\" \n",
    "# You can also write temporary files to /kaggle/temp/, but they won't be saved outside of the current session"
   ]
  },
  {
   "cell_type": "code",
   "execution_count": 2,
   "metadata": {
    "_cell_guid": "79c7e3d0-c299-4dcb-8224-4455121ee9b0",
    "_uuid": "d629ff2d2480ee46fbb7e2d37f6b5fab8052498a"
   },
   "outputs": [
    {
     "name": "stderr",
     "output_type": "stream",
     "text": [
      "Using TensorFlow backend.\n"
     ]
    }
   ],
   "source": [
    "# Importng Required Libraries\n",
    "import tensorflow as tf\n",
    "from tensorflow import keras\n",
    "import numpy as np\n",
    "import pandas as pd\n",
    "import matplotlib.pyplot as plt\n",
    "import seaborn as sns\n",
    "from keras.datasets import mnist"
   ]
  },
  {
   "cell_type": "markdown",
   "metadata": {},
   "source": [
    "## Data Prepration"
   ]
  },
  {
   "cell_type": "markdown",
   "metadata": {},
   "source": [
    "### Load Data"
   ]
  },
  {
   "cell_type": "markdown",
   "metadata": {},
   "source": [
    "### Using External Data From Kaggle Datasets "
   ]
  },
  {
   "cell_type": "code",
   "execution_count": 3,
   "metadata": {},
   "outputs": [
    {
     "name": "stdout",
     "output_type": "stream",
     "text": [
      "Downloading data from https://s3.amazonaws.com/img-datasets/mnist.npz\n",
      "11493376/11490434 [==============================] - 0s 0us/step\n"
     ]
    }
   ],
   "source": [
    "(X_train, y_train), (X_test, y_test) = mnist.load_data()\n",
    "X_train = np.vstack((X_train, X_test))\n",
    "y_train = np.concatenate([y_train, y_test])"
   ]
  },
  {
   "cell_type": "code",
   "execution_count": 4,
   "metadata": {},
   "outputs": [],
   "source": [
    "train = pd.read_csv(r'/kaggle/input/digit-recognizer/train.csv').values\n",
    "test = pd.read_csv(r'/kaggle/input/digit-recognizer/test.csv').values.astype('float32')"
   ]
  },
  {
   "cell_type": "code",
   "execution_count": 5,
   "metadata": {},
   "outputs": [],
   "source": [
    "y_val = train[:,0].astype('int32')\n",
    "X_val = train[:,1:].astype('float32')"
   ]
  },
  {
   "cell_type": "code",
   "execution_count": 6,
   "metadata": {},
   "outputs": [
    {
     "data": {
      "text/plain": [
       "<matplotlib.axes._subplots.AxesSubplot at 0x7f9eed8d0e50>"
      ]
     },
     "execution_count": 6,
     "metadata": {},
     "output_type": "execute_result"
    },
    {
     "data": {
      "image/png": "[encoded data removed]",
      "text/plain": [
       "<Figure size 504x360 with 1 Axes>"
      ]
     },
     "metadata": {},
     "output_type": "display_data"
    }
   ],
   "source": [
    "sns.set_style('whitegrid')\n",
    "plt.figure(figsize=(7,5))\n",
    "sns.countplot(y_train)"
   ]
  },
  {
   "cell_type": "markdown",
   "metadata": {},
   "source": [
    "### Normalization"
   ]
  },
  {
   "cell_type": "code",
   "execution_count": 7,
   "metadata": {},
   "outputs": [],
   "source": [
    "X_train = X_train.astype('float32')/255\n",
    "X_val = X_val.astype('float32')/255\n",
    "test = test.astype('float32')/255 "
   ]
  },
  {
   "cell_type": "markdown",
   "metadata": {},
   "source": [
    "### Reshape"
   ]
  },
  {
   "cell_type": "code",
   "execution_count": 8,
   "metadata": {},
   "outputs": [],
   "source": [
    "X_train = X_train.reshape(-1,28,28,1)\n",
    "X_val = X_val.reshape(-1,28,28,1)\n",
    "test=test.reshape(-1,28,28,1)"
   ]
  },
  {
   "cell_type": "code",
   "execution_count": 9,
   "metadata": {},
   "outputs": [
    {
     "name": "stdout",
     "output_type": "stream",
     "text": [
      "(70000, 28, 28, 1) (70000,)\n"
     ]
    }
   ],
   "source": [
    "print(X_train.shape, y_train.shape)"
   ]
  },
  {
   "cell_type": "code",
   "execution_count": 10,
   "metadata": {},
   "outputs": [
    {
     "name": "stdout",
     "output_type": "stream",
     "text": [
      "(42000, 28, 28, 1) (42000,)\n"
     ]
    }
   ],
   "source": [
    "print(X_val.shape, y_val.shape)"
   ]
  },
  {
   "cell_type": "markdown",
   "metadata": {},
   "source": [
    "### Label Encoding"
   ]
  },
  {
   "cell_type": "code",
   "execution_count": 11,
   "metadata": {},
   "outputs": [],
   "source": [
    "y_train = tf.keras.utils.to_categorical(y_train, num_classes=10)\n",
    "y_val = tf.keras.utils.to_categorical(y_val, num_classes=10)"
   ]
  },
  {
   "cell_type": "code",
   "execution_count": 12,
   "metadata": {},
   "outputs": [
    {
     "data": {
      "text/plain": [
       "<matplotlib.image.AxesImage at 0x7f9eec80ab50>"
      ]
     },
     "execution_count": 12,
     "metadata": {},
     "output_type": "execute_result"
    },
    {
     "data": {
      "image/png": "[encoded data removed]",
      "text/plain": [
       "<Figure size 432x288 with 1 Axes>"
      ]
     },
     "metadata": {},
     "output_type": "display_data"
    }
   ],
   "source": [
    "plt.imshow(X_train[0][:,:,0])"
   ]
  },
  {
   "cell_type": "markdown",
   "metadata": {},
   "source": [
    "## CNN"
   ]
  },
  {
   "cell_type": "markdown",
   "metadata": {},
   "source": [
    "### Defining the model"
   ]
  },
  {
   "cell_type": "code",
   "execution_count": 13,
   "metadata": {},
   "outputs": [
    {
     "name": "stdout",
     "output_type": "stream",
     "text": [
      "Model: \"sequential_1\"\n",
      "_________________________________________________________________\n",
      "Layer (type)                 Output Shape              Param #   \n",
      "=================================================================\n",
      "conv2d_1 (Conv2D)            (None, 28, 28, 64)        640       \n",
      "_________________________________________________________________\n",
      "conv2d_2 (Conv2D)            (None, 28, 28, 64)        36928     \n",
      "_________________________________________________________________\n",
      "conv2d_3 (Conv2D)            (None, 28, 28, 128)       73856     \n",
      "_________________________________________________________________\n",
      "max_pooling2d_1 (MaxPooling2 (None, 14, 14, 128)       0         \n",
      "_________________________________________________________________\n",
      "conv2d_4 (Conv2D)            (None, 14, 14, 128)       147584    \n",
      "_________________________________________________________________\n",
      "conv2d_5 (Conv2D)            (None, 14, 14, 192)       221376    \n",
      "_________________________________________________________________\n",
      "max_pooling2d_2 (MaxPooling2 (None, 7, 7, 192)         0         \n",
      "_________________________________________________________________\n",
      "conv2d_6 (Conv2D)            (None, 7, 7, 192)         921792    \n",
      "_________________________________________________________________\n",
      "max_pooling2d_3 (MaxPooling2 (None, 4, 4, 192)         0         \n",
      "_________________________________________________________________\n",
      "flatten_1 (Flatten)          (None, 3072)              0         \n",
      "_________________________________________________________________\n",
      "dense_1 (Dense)              (None, 256)               786688    \n",
      "_________________________________________________________________\n",
      "dense_2 (Dense)              (None, 10)                2570      \n",
      "=================================================================\n",
      "Total params: 2,191,434\n",
      "Trainable params: 2,191,434\n",
      "Non-trainable params: 0\n",
      "_________________________________________________________________\n"
     ]
    }
   ],
   "source": [
    "from keras.models import Sequential\n",
    "from keras.layers import Dense, Dropout, Flatten, Conv2D, MaxPooling2D\n",
    "\n",
    "# define the model\n",
    "model = Sequential()\n",
    "model.add(Conv2D(filters=64, kernel_size=3, padding='same', activation='relu', input_shape=(28,28,1)))\n",
    "model.add(Conv2D(filters=64, kernel_size=3, padding='same', activation='relu'))\n",
    "model.add(Conv2D(filters=128, kernel_size=3, padding='same', activation='relu'))\n",
    "model.add(MaxPooling2D(pool_size=2))\n",
    "model.add(Conv2D(filters=128, kernel_size=3, padding='same', activation='relu'))\n",
    "model.add(Conv2D(filters=192, kernel_size=3, padding='same', activation='relu'))\n",
    "model.add(MaxPooling2D(pool_size=2))\n",
    "model.add(Conv2D(filters=192, kernel_size=5, padding='same', activation='relu'))\n",
    "model.add(MaxPooling2D(pool_size=2, padding='same'))\n",
    "model.add(Flatten())\n",
    "model.add(Dense(256, activation='relu'))\n",
    "model.add(Dense(10, activation='softmax'))\n",
    "# summarize the model\n",
    "model.summary()"
   ]
  },
  {
   "cell_type": "markdown",
   "metadata": {},
   "source": [
    "### Initializing Optimizer"
   ]
  },
  {
   "cell_type": "code",
   "execution_count": 14,
   "metadata": {},
   "outputs": [],
   "source": [
    "optimizer='adam'"
   ]
  },
  {
   "cell_type": "code",
   "execution_count": 15,
   "metadata": {},
   "outputs": [],
   "source": [
    "model.compile(optimizer=optimizer, loss='categorical_crossentropy', metrics=['acc'])"
   ]
  },
  {
   "cell_type": "code",
   "execution_count": 16,
   "metadata": {},
   "outputs": [],
   "source": [
    "reduce_lr = tf.keras.callbacks.ReduceLROnPlateau(monitor='loss', factor=0.3, verbose=1,\n",
    "                              patience=2, min_lr=0.00000001)"
   ]
  },
  {
   "cell_type": "code",
   "execution_count": 17,
   "metadata": {},
   "outputs": [
    {
     "name": "stdout",
     "output_type": "stream",
     "text": [
      "Train on 70000 samples, validate on 42000 samples\n",
      "Epoch 1/25\n",
      "70000/70000 [==============================] - 24s 346us/step - loss: 0.1368 - acc: 0.9566 - val_loss: 0.0312 - val_acc: 0.9910\n",
      "Epoch 2/25\n",
      "70000/70000 [==============================] - 19s 274us/step - loss: 0.0339 - acc: 0.9899 - val_loss: 0.0232 - val_acc: 0.9925\n",
      "Epoch 3/25\n",
      "70000/70000 [==============================] - 19s 276us/step - loss: 0.0233 - acc: 0.9927 - val_loss: 0.0145 - val_acc: 0.9959\n",
      "Epoch 4/25\n",
      "70000/70000 [==============================] - 20s 282us/step - loss: 0.0187 - acc: 0.9946 - val_loss: 0.0092 - val_acc: 0.9971\n",
      "Epoch 5/25\n",
      "70000/70000 [==============================] - 19s 276us/step - loss: 0.0158 - acc: 0.9953 - val_loss: 0.0081 - val_acc: 0.9975\n",
      "Epoch 6/25\n",
      "70000/70000 [==============================] - 19s 274us/step - loss: 0.0127 - acc: 0.9959 - val_loss: 0.0064 - val_acc: 0.9981\n",
      "Epoch 7/25\n",
      "70000/70000 [==============================] - 20s 282us/step - loss: 0.0123 - acc: 0.9961 - val_loss: 0.0111 - val_acc: 0.9968\n",
      "Epoch 8/25\n",
      "70000/70000 [==============================] - 19s 275us/step - loss: 0.0096 - acc: 0.9969 - val_loss: 0.0058 - val_acc: 0.9981\n",
      "Epoch 9/25\n",
      "70000/70000 [==============================] - 19s 276us/step - loss: 0.0080 - acc: 0.9977 - val_loss: 0.0093 - val_acc: 0.9971\n",
      "Epoch 10/25\n",
      "70000/70000 [==============================] - 19s 279us/step - loss: 0.0083 - acc: 0.9974 - val_loss: 0.0052 - val_acc: 0.9984\n",
      "Epoch 11/25\n",
      "70000/70000 [==============================] - 19s 275us/step - loss: 0.0084 - acc: 0.9973 - val_loss: 0.0079 - val_acc: 0.9974\n",
      "\n",
      "Epoch 00011: ReduceLROnPlateau reducing learning rate to 0.0003000000142492354.\n",
      "Epoch 12/25\n",
      "70000/70000 [==============================] - 19s 276us/step - loss: 0.0021 - acc: 0.9993 - val_loss: 2.4438e-04 - val_acc: 1.0000\n",
      "Epoch 13/25\n",
      "70000/70000 [==============================] - 20s 279us/step - loss: 1.4529e-04 - acc: 1.0000 - val_loss: 2.8808e-05 - val_acc: 1.0000\n",
      "Epoch 14/25\n",
      "70000/70000 [==============================] - 19s 275us/step - loss: 2.0506e-05 - acc: 1.0000 - val_loss: 1.2938e-05 - val_acc: 1.0000\n",
      "Epoch 15/25\n",
      "70000/70000 [==============================] - 19s 272us/step - loss: 9.9573e-06 - acc: 1.0000 - val_loss: 7.1941e-06 - val_acc: 1.0000\n",
      "Epoch 16/25\n",
      "70000/70000 [==============================] - 19s 277us/step - loss: 5.5635e-06 - acc: 1.0000 - val_loss: 4.2901e-06 - val_acc: 1.0000\n",
      "\n",
      "Epoch 00016: ReduceLROnPlateau reducing learning rate to 9.000000427477062e-05.\n",
      "Epoch 17/25\n",
      "70000/70000 [==============================] - 20s 279us/step - loss: 3.6084e-06 - acc: 1.0000 - val_loss: 3.6287e-06 - val_acc: 1.0000\n",
      "Epoch 18/25\n",
      "70000/70000 [==============================] - 19s 272us/step - loss: 3.0313e-06 - acc: 1.0000 - val_loss: 2.9688e-06 - val_acc: 1.0000\n",
      "\n",
      "Epoch 00018: ReduceLROnPlateau reducing learning rate to 2.700000040931627e-05.\n",
      "Epoch 19/25\n",
      "70000/70000 [==============================] - 19s 277us/step - loss: 2.5622e-06 - acc: 1.0000 - val_loss: 2.7544e-06 - val_acc: 1.0000\n",
      "Epoch 20/25\n",
      "70000/70000 [==============================] - 19s 278us/step - loss: 2.3696e-06 - acc: 1.0000 - val_loss: 2.4995e-06 - val_acc: 1.0000\n",
      "\n",
      "Epoch 00020: ReduceLROnPlateau reducing learning rate to 8.100000013655517e-06.\n",
      "Epoch 21/25\n",
      "70000/70000 [==============================] - 19s 275us/step - loss: 2.1801e-06 - acc: 1.0000 - val_loss: 2.4037e-06 - val_acc: 1.0000\n",
      "Epoch 22/25\n",
      "70000/70000 [==============================] - 19s 271us/step - loss: 2.0896e-06 - acc: 1.0000 - val_loss: 2.2809e-06 - val_acc: 1.0000\n",
      "\n",
      "Epoch 00022: ReduceLROnPlateau reducing learning rate to 2.429999949526973e-06.\n",
      "Epoch 23/25\n",
      "70000/70000 [==============================] - 20s 284us/step - loss: 1.9997e-06 - acc: 1.0000 - val_loss: 2.2320e-06 - val_acc: 1.0000\n",
      "Epoch 24/25\n",
      "70000/70000 [==============================] - 19s 275us/step - loss: 1.9522e-06 - acc: 1.0000 - val_loss: 2.1664e-06 - val_acc: 1.0000\n",
      "\n",
      "Epoch 00024: ReduceLROnPlateau reducing learning rate to 7.289999985005124e-07.\n",
      "Epoch 25/25\n",
      "70000/70000 [==============================] - 19s 274us/step - loss: 1.9046e-06 - acc: 1.0000 - val_loss: 2.1410e-06 - val_acc: 1.0000\n"
     ]
    }
   ],
   "source": [
    "history = model.fit(X_train,y_train, batch_size=100,\n",
    "                              epochs = 25, validation_data = (X_val,y_val),\n",
    "                              verbose = 1, callbacks=[reduce_lr], shuffle = True)"
   ]
  },
  {
   "cell_type": "markdown",
   "metadata": {},
   "source": [
    "### Evaluating the Model"
   ]
  },
  {
   "cell_type": "code",
   "execution_count": 18,
   "metadata": {},
   "outputs": [
    {
     "data": {
      "image/png": "[encoded data removed]",
      "text/plain": [
       "<Figure size 1080x504 with 2 Axes>"
      ]
     },
     "metadata": {},
     "output_type": "display_data"
    }
   ],
   "source": [
    "plt.figure(figsize=(15,7))\n",
    "ax1 = plt.subplot(1,2,1)\n",
    "ax1.plot(history.history['loss'], color='b', label='Training Loss') \n",
    "ax1.plot(history.history['val_loss'], color='r', label = 'Validation Loss',axes=ax1)\n",
    "legend = ax1.legend(loc='best', shadow=True)\n",
    "ax2 = plt.subplot(1,2,2)\n",
    "ax2.plot(history.history['acc'], color='b', label='Training Accuracy') \n",
    "ax2.plot(history.history['val_acc'], color='r', label = 'Validation Accuracy')\n",
    "legend = ax2.legend(loc='best', shadow=True)"
   ]
  },
  {
   "cell_type": "markdown",
   "metadata": {},
   "source": [
    "### Confusion Matrix"
   ]
  },
  {
   "cell_type": "code",
   "execution_count": 19,
   "metadata": {},
   "outputs": [
    {
     "data": {
      "text/plain": [
       "<matplotlib.axes._subplots.AxesSubplot at 0x7f9ee6d52410>"
      ]
     },
     "execution_count": 19,
     "metadata": {},
     "output_type": "execute_result"
    },
    {
     "data": {
      "image/png": "[encoded data removed]",
      "text/plain": [
       "<Figure size 432x288 with 2 Axes>"
      ]
     },
     "metadata": {},
     "output_type": "display_data"
    }
   ],
   "source": [
    "y_pred = model.predict(X_val)\n",
    "y_pred_classes = np.argmax(y_pred, axis=1)\n",
    "y_true = np.argmax(y_val, axis=1)\n",
    "import scikitplot as skplt\n",
    "skplt.metrics.plot_confusion_matrix(y_true,y_pred_classes,title='Confusion Matrix for Train Data')"
   ]
  },
  {
   "cell_type": "markdown",
   "metadata": {},
   "source": [
    "### Predicting results on test data"
   ]
  },
  {
   "cell_type": "code",
   "execution_count": 20,
   "metadata": {},
   "outputs": [],
   "source": [
    "results = model.predict(test)\n",
    "results = np.argmax(results, axis=1)\n",
    "results = pd.Series(results, name='Label')"
   ]
  },
  {
   "cell_type": "code",
   "execution_count": 21,
   "metadata": {},
   "outputs": [],
   "source": [
    "submission = pd.concat([pd.Series(range(1,28001), name='ImageId'), results], axis=1)\n",
    "submission.to_csv(r'Digit_Recognizer_MNIST', index=False)"
   ]
  },
  {
   "cell_type": "code",
   "execution_count": null,
   "metadata": {},
   "outputs": [],
   "source": []
  }
 ],
 "metadata": {
  "kernelspec": {
   "display_name": "Python 3",
   "language": "python",
   "name": "python3"
  },
  "language_info": {
   "codemirror_mode": {
    "name": "ipython",
    "version": 3
   },
   "file_extension": ".py",
   "mimetype": "text/x-python",
   "name": "python",
   "nbconvert_exporter": "python",
   "pygments_lexer": "ipython3",
   "version": "3.7.1"
  }
 },
 "nbformat": 4,
 "nbformat_minor": 4
}
